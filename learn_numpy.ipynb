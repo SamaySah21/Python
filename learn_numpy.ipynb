{
  "cells": [
    {
      "cell_type": "markdown",
      "metadata": {
        "id": "Bb310eGKT_Al"
      },
      "source": [
        "# NumPy\n",
        "\n",
        "numpy is python's package for doing math that is more advanced than +-*/\n",
        "\n",
        "This includes special functions like cosine, exponential, sqrt, ...\n",
        "\n",
        "On top of this we can use numpy to generate samples from many types of random variables\n",
        "\n",
        "numpy also has a powerful data type to define vectors, matrices, and tensors\n",
        "\n",
        "With these data types numpy also allows us to do linear algebra - matrix multiplication and matrix-vector solutions"
      ]
    },
    {
      "cell_type": "code",
      "execution_count": 1,
      "metadata": {
        "id": "p9JsEL2aT_As"
      },
      "outputs": [],
      "source": [
        "# the first step of using numpy is to tell python to use it\n",
        "import numpy as np"
      ]
    },
    {
      "cell_type": "code",
      "execution_count": 2,
      "metadata": {
        "colab": {
          "base_uri": "https://localhost:8080/"
        },
        "id": "ZIBcLDPIT_Av",
        "outputId": "a669e2ce-9afe-4fb2-b971-dba0a5c8d06b"
      },
      "outputs": [
        {
          "output_type": "stream",
          "name": "stdout",
          "text": [
            "[1 2 3]\n",
            "\n",
            "[[1 2 1]\n",
            " [4 5 9]\n",
            " [1 8 9]]\n",
            "\n",
            "[[1 4 1]\n",
            " [2 5 8]\n",
            " [1 9 9]]\n"
          ]
        }
      ],
      "source": [
        "# we can create numpy arrays by converting lists\n",
        "# this is a vector\n",
        "vec = np.array([1,2,3])\n",
        "print(vec)\n",
        "# we can create matrices by converting lists of lists\n",
        "mat = np.array([[1,2,1],[4,5,9],[1,8,9]])\n",
        "print('')\n",
        "print(mat)\n",
        "print('')\n",
        "print(mat.T)"
      ]
    },
    {
      "cell_type": "code",
      "execution_count": 3,
      "metadata": {
        "colab": {
          "base_uri": "https://localhost:8080/"
        },
        "id": "DGvE0u7vT_Av",
        "outputId": "a3ea880a-fc1e-4a6e-c7a5-94250ac669cc"
      },
      "outputs": [
        {
          "output_type": "stream",
          "name": "stdout",
          "text": [
            "[ 0  1  2  3  4  5  6  7  8  9 10 11 12 13 14]\n",
            "\n",
            "[ 3  9 15]\n"
          ]
        }
      ],
      "source": [
        "# there are lots of other ways to create numpy arrays\n",
        "vec2 = np.arange(0,15)\n",
        "print(vec2)\n",
        "print('')\n",
        "vec3 = np.arange(3,21,6)\n",
        "print(vec3)\n"
      ]
    },
    {
      "cell_type": "code",
      "execution_count": 4,
      "metadata": {
        "colab": {
          "base_uri": "https://localhost:8080/"
        },
        "id": "AOKuI_TrT_Aw",
        "outputId": "07bb0b5b-37e3-4e54-8914-2c161a5d49da"
      },
      "outputs": [
        {
          "output_type": "stream",
          "name": "stdout",
          "text": [
            "[0.         0.55555556 1.11111111 1.66666667 2.22222222 2.77777778\n",
            " 3.33333333 3.88888889 4.44444444 5.        ]\n",
            "\n",
            "[[0.         0.55555556]\n",
            " [1.11111111 1.66666667]\n",
            " [2.22222222 2.77777778]\n",
            " [3.33333333 3.88888889]\n",
            " [4.44444444 5.        ]]\n",
            "[[0.         0.55555556]\n",
            " [1.11111111 1.66666667]\n",
            " [2.22222222 2.77777778]\n",
            " [3.33333333 3.88888889]\n",
            " [4.44444444 5.        ]]\n",
            "[0.         0.55555556 1.11111111 1.66666667 2.22222222 2.77777778\n",
            " 3.33333333 3.88888889 4.44444444 5.        ]\n"
          ]
        }
      ],
      "source": [
        "\n",
        "vec4 = np.linspace(0,5,10)\n",
        "print(vec4)\n",
        "print('')\n",
        "print(vec4.reshape(5,2))\n",
        "vec4_reshaped = vec4.reshape(5,2)\n",
        "print(vec4_reshaped)\n",
        "print(vec4)"
      ]
    },
    {
      "cell_type": "code",
      "execution_count": 5,
      "metadata": {
        "colab": {
          "base_uri": "https://localhost:8080/"
        },
        "id": "K44_NR9jT_Ax",
        "outputId": "a8bed28d-7746-4272-d8ae-da1358a11395"
      },
      "outputs": [
        {
          "output_type": "stream",
          "name": "stdout",
          "text": [
            "[[0. 0. 0.]\n",
            " [0. 0. 0.]\n",
            " [0. 0. 0.]\n",
            " [0. 0. 0.]\n",
            " [0. 0. 0.]]\n",
            "\n",
            "[[1. 1. 1. 1. 1.]\n",
            " [1. 1. 1. 1. 1.]\n",
            " [1. 1. 1. 1. 1.]]\n",
            "\n",
            "[[1. 0. 0. 0. 0.]\n",
            " [0. 1. 0. 0. 0.]\n",
            " [0. 0. 1. 0. 0.]\n",
            " [0. 0. 0. 1. 0.]\n",
            " [0. 0. 0. 0. 1.]]\n"
          ]
        }
      ],
      "source": [
        "mat2 = np.zeros([5,3])\n",
        "print(mat2)\n",
        "mat3 = np.ones((3,5))\n",
        "print('')\n",
        "print(mat3)\n",
        "mat4 = np.eye(5)\n",
        "print('')\n",
        "print(mat4)"
      ]
    },
    {
      "cell_type": "code",
      "execution_count": 6,
      "metadata": {
        "colab": {
          "base_uri": "https://localhost:8080/"
        },
        "id": "UcR640_IT_Ay",
        "outputId": "244b534b-c8b0-4ad9-9a6f-1cdefecc1204"
      },
      "outputs": [
        {
          "output_type": "stream",
          "name": "stdout",
          "text": [
            "[1 2 3 4 5]\n",
            "[3 4 5 6 7]\n",
            "[ 4  6  8 10 12]\n",
            "[ 3  8 15 24 35]\n",
            "[1.         0.5        0.33333333 0.25       0.2       ]\n",
            "[1.73205081 2.         2.23606798 2.44948974 2.64575131]\n"
          ]
        }
      ],
      "source": [
        "# we can +-*/ arrays together if they're the right size\n",
        "vec5 = np.arange(1,6)\n",
        "vec6 = np.arange(3,8)\n",
        "print(vec5)\n",
        "print(vec6)\n",
        "print(vec5+vec6)\n",
        "print(vec5*vec6)\n",
        "print(1/vec5)\n",
        "print(np.sqrt(vec6))"
      ]
    },
    {
      "cell_type": "code",
      "execution_count": 7,
      "metadata": {
        "colab": {
          "base_uri": "https://localhost:8080/"
        },
        "id": "Zd-R3nmcT_Az",
        "outputId": "3ea9871c-eebc-451a-b00f-2f33c3262398"
      },
      "outputs": [
        {
          "output_type": "stream",
          "name": "stdout",
          "text": [
            "[[1 2 1]\n",
            " [4 5 9]\n",
            " [1 8 9]]\n",
            "\n",
            "[1 2 3]\n",
            "\n",
            "[ 8 41 44]\n"
          ]
        }
      ],
      "source": [
        "# we can do matrix multiplication\n",
        "print(mat)\n",
        "print('')\n",
        "print(vec)\n",
        "print()\n",
        "product = np.matmul(mat,vec)\n",
        "print(product)"
      ]
    },
    {
      "cell_type": "code",
      "execution_count": 8,
      "metadata": {
        "colab": {
          "base_uri": "https://localhost:8080/"
        },
        "id": "jVwyhKuhT_A0",
        "outputId": "b3ab7883-0eb8-44c2-9604-b13dca6bfef1"
      },
      "outputs": [
        {
          "output_type": "stream",
          "name": "stdout",
          "text": [
            "['blue' 'red' 'orange' 'purple' 'purple' 'orange' 'Red' '6']\n",
            "['6' 'Red' 'blue' 'orange' 'purple' 'red']\n"
          ]
        }
      ],
      "source": [
        "# we can find the unique values in an array\n",
        "vec7 = np.array(['blue','red','orange','purple','purple','orange','Red',6])\n",
        "print(vec7)\n",
        "print(np.unique(vec7))"
      ]
    },
    {
      "cell_type": "code",
      "execution_count": 9,
      "metadata": {
        "colab": {
          "base_uri": "https://localhost:8080/"
        },
        "id": "Y78k1JuTT_A1",
        "outputId": "aa2946dd-5841-407e-f760-2ee62ea9b6a7"
      },
      "outputs": [
        {
          "output_type": "stream",
          "name": "stdout",
          "text": [
            "[[0.29330443 0.39512259 0.71367056 0.38009594 0.86785107]\n",
            " [0.00549232 0.3902481  0.72933909 0.3373087  0.33631839]\n",
            " [0.37293191 0.79258536 0.37187842 0.62301608 0.53027568]\n",
            " [0.54688766 0.45500545 0.55143973 0.58066666 0.16984267]\n",
            " [0.80807055 0.76741813 0.41199233 0.9931135  0.87131166]]\n",
            "\n",
            "[[-1.24578688  0.49633721 -0.0938787  -1.88640569 -1.33312507]\n",
            " [ 2.23233939  0.22667207 -0.18581709  1.04062703  1.50074678]\n",
            " [ 0.0314075  -1.07251519  1.538998   -0.77823944  0.74081445]\n",
            " [-0.72005747  0.12869181 -1.48427002 -0.32290392  1.2160871 ]\n",
            " [ 0.33973679 -0.00941917  0.15018569  0.83787215 -0.35204275]\n",
            " [ 2.24236496  0.62254086 -0.1780463  -0.59941736 -0.85521881]\n",
            " [-0.15495157  1.0956207   0.05788447  0.24695579  0.74577918]\n",
            " [-1.2221897  -1.35690723  0.36597218  1.64403967  0.94506801]\n",
            " [ 1.43724942 -0.18433301 -2.6516337  -0.43065766  0.13751131]\n",
            " [-1.11497199  0.07030748  0.31332356  0.0523044  -1.85730936]]\n"
          ]
        }
      ],
      "source": [
        "# we can also use numpy to generate samples of a random variable\n",
        "rand_mat = np.random.rand(5,5) # uniform random variable\n",
        "print(rand_mat)\n",
        "rand_mat2 = np.random.randn(10,5) # standard normal random variable\n",
        "print('')\n",
        "print(rand_mat2)"
      ]
    },
    {
      "cell_type": "code",
      "execution_count": 11,
      "metadata": {
        "colab": {
          "base_uri": "https://localhost:8080/"
        },
        "id": "EPtH3tNfT_A3",
        "outputId": "e6a8b6a7-db72-4d20-9995-5e5abb5bd601"
      },
      "outputs": [
        {
          "output_type": "stream",
          "name": "stdout",
          "text": [
            "[ 0.54277565  0.26872008 -0.94828423  0.48328922  0.57123486 -0.94603227\n",
            " -0.04614342 -1.88110401 -0.09201336 -0.22979893  0.6133874   0.36698999\n",
            " -0.36985539  0.98393285 -0.55636939 -0.42649208  0.45191664 -0.10769986\n",
            " -0.86197114]\n",
            "-0.04614342010373825\n"
          ]
        }
      ],
      "source": [
        "# how do we access entries in a numpy vector\n",
        "rand_vec = np.random.randn(19)\n",
        "print(rand_vec)\n",
        "print(rand_vec[6])"
      ]
    },
    {
      "cell_type": "code",
      "execution_count": 12,
      "metadata": {
        "colab": {
          "base_uri": "https://localhost:8080/"
        },
        "id": "FsGknWx1T_A3",
        "outputId": "9d09295d-4a9c-47ef-d6a2-e9fcc0e98616"
      },
      "outputs": [
        {
          "output_type": "stream",
          "name": "stdout",
          "text": [
            "[ 0.57123486 -0.94603227 -0.04614342 -1.88110401 -0.09201336]\n"
          ]
        }
      ],
      "source": [
        "# we can access multiple entries at once using :\n",
        "print(rand_vec[4:9])"
      ]
    },
    {
      "cell_type": "code",
      "execution_count": 14,
      "metadata": {
        "colab": {
          "base_uri": "https://localhost:8080/"
        },
        "id": "AquZ8r2FT_A4",
        "outputId": "12504715-4348-4e05-a2a2-60e1920c5963"
      },
      "outputs": [
        {
          "output_type": "stream",
          "name": "stdout",
          "text": [
            "[ 0  3  6  9 12]\n",
            "[ 0.54277565  0.48328922 -0.04614342 -0.22979893 -0.36985539]\n"
          ]
        }
      ],
      "source": [
        "# we can also access multiple non-consecutive entries using np.arange\n",
        "print(np.arange(0,15,3))\n",
        "\n",
        "print(rand_vec[np.arange(0,15,3)])   #[ 0  3  6  9 12] index value will be output"
      ]
    },
    {
      "cell_type": "code",
      "execution_count": 18,
      "metadata": {
        "colab": {
          "base_uri": "https://localhost:8080/"
        },
        "id": "VXhSgxcgT_A4",
        "outputId": "10efa6e6-6235-4a42-ee37-455baee27189"
      },
      "outputs": [
        {
          "output_type": "stream",
          "name": "stdout",
          "text": [
            "[[0.29330443 0.39512259 0.71367056 0.38009594 0.86785107]\n",
            " [0.00549232 0.3902481  0.72933909 0.3373087  0.33631839]\n",
            " [0.37293191 0.79258536 0.37187842 0.62301608 0.53027568]\n",
            " [0.54688766 0.45500545 0.55143973 0.58066666 0.16984267]\n",
            " [0.80807055 0.76741813 0.41199233 0.9931135  0.87131166]]\n",
            "\n",
            "0.7293390867123992\n",
            "0.7293390867123992\n"
          ]
        }
      ],
      "source": [
        "# Access single value friom matrix\n",
        "\n",
        "print(rand_mat)\n",
        "print(\"\")\n",
        "print(rand_mat[1][2])   # rand_mat[row_index][column_index]   : this method work on numpy array and list as well.\n",
        "print(rand_mat[1,2])    # rand_mat[row_index, column_index]   : this method work on numpy array only\n"
      ]
    },
    {
      "cell_type": "code",
      "execution_count": 21,
      "metadata": {
        "colab": {
          "base_uri": "https://localhost:8080/"
        },
        "id": "J_WTgB30T_A5",
        "outputId": "f2dcff64-71b5-4be8-8746-84a4c9b48eb7"
      },
      "outputs": [
        {
          "output_type": "stream",
          "name": "stdout",
          "text": [
            "[[0.39512259 0.71367056]\n",
            " [0.3902481  0.72933909]]\n"
          ]
        }
      ],
      "source": [
        "# get multiple values \n",
        "print(rand_mat[0:2,1:3])  # get rows 0,1 , columns = 1,2  "
      ]
    },
    {
      "cell_type": "code",
      "execution_count": 22,
      "metadata": {
        "colab": {
          "base_uri": "https://localhost:8080/"
        },
        "id": "5KaVnn-wT_A5",
        "outputId": "bfbbfc57-b455-4634-8d60-7a91a47a79f4"
      },
      "outputs": [
        {
          "output_type": "stream",
          "name": "stdout",
          "text": [
            "[ 0.54277565  0.26872008 -0.94828423  0.48328922  0.57123486 -0.94603227\n",
            " -0.04614342 -1.88110401 -0.09201336 -0.22979893  0.6133874   0.36698999\n",
            " -0.36985539  0.98393285 -0.55636939 -0.42649208  0.45191664 -0.10769986\n",
            " -0.86197114]\n",
            "\n",
            "[ 0.54277565  0.26872008 -0.94828423  4.          4.         -0.94603227\n",
            " -0.04614342 -1.88110401 -0.09201336 -0.22979893  0.6133874   0.36698999\n",
            " -0.36985539  0.98393285 -0.55636939 -0.42649208  0.45191664 -0.10769986\n",
            " -0.86197114]\n",
            "\n",
            "[ 0.54277565  0.26872008 -0.94828423  1.          2.         -0.94603227\n",
            " -0.04614342 -1.88110401 -0.09201336 -0.22979893  0.6133874   0.36698999\n",
            " -0.36985539  0.98393285 -0.55636939 -0.42649208  0.45191664 -0.10769986\n",
            " -0.86197114]\n"
          ]
        }
      ],
      "source": [
        "#Set values in an array!\n",
        "print(rand_vec)\n",
        "rand_vec[3:5] = 4     # set index 3,4 = 4\n",
        "print('')\n",
        "print(rand_vec)\n",
        "rand_vec[3:5] = [1,2]    # set 3rd index = 1, 5th index = 2\n",
        "print('')\n",
        "print(rand_vec)"
      ]
    },
    {
      "cell_type": "code",
      "execution_count": 23,
      "metadata": {
        "colab": {
          "base_uri": "https://localhost:8080/"
        },
        "id": "pbe3_ZHDT_A6",
        "outputId": "0712d6c9-7b87-4673-b50d-2b6109967062"
      },
      "outputs": [
        {
          "output_type": "stream",
          "name": "stdout",
          "text": [
            "[[0.29330443 0.39512259 0.71367056 0.38009594 0.86785107]\n",
            " [0.00549232 0.3902481  0.72933909 0.3373087  0.33631839]\n",
            " [0.37293191 0.79258536 0.37187842 0.62301608 0.53027568]\n",
            " [0.54688766 0.45500545 0.55143973 0.58066666 0.16984267]\n",
            " [0.80807055 0.76741813 0.41199233 0.9931135  0.87131166]]\n",
            "\n",
            "[[0.29330443 0.39512259 0.71367056 0.38009594 0.86785107]\n",
            " [0.00549232 0.3902481  0.72933909 0.         0.        ]\n",
            " [0.37293191 0.79258536 0.37187842 0.         0.        ]\n",
            " [0.54688766 0.45500545 0.55143973 0.58066666 0.16984267]\n",
            " [0.80807055 0.76741813 0.41199233 0.9931135  0.87131166]]\n"
          ]
        }
      ],
      "source": [
        "print(rand_mat)\n",
        "rand_mat[1:3,3:5] = 0     # set row 1,2 = 0 and  column = 4,5 = 0\n",
        "print('')\n",
        "print(rand_mat)"
      ]
    },
    {
      "cell_type": "code",
      "execution_count": 24,
      "metadata": {
        "colab": {
          "base_uri": "https://localhost:8080/"
        },
        "id": "S6yMLCaeT_A6",
        "outputId": "96a2c65c-b32c-4d92-b195-6585c0378c83"
      },
      "outputs": [
        {
          "output_type": "stream",
          "name": "stdout",
          "text": [
            "[[0.29330443 0.39512259 0.71367056]\n",
            " [0.00549232 0.3902481  0.72933909]]\n",
            "[[3. 3. 3.]\n",
            " [3. 3. 3.]]\n"
          ]
        }
      ],
      "source": [
        "sub_mat = rand_mat[0:2,0:3]       # create sub natrix \n",
        "print(sub_mat)\n",
        "sub_mat[:] = 3                    # set all value = 3\n",
        "print(sub_mat)\n"
      ]
    },
    {
      "cell_type": "code",
      "execution_count": 25,
      "metadata": {
        "colab": {
          "base_uri": "https://localhost:8080/"
        },
        "id": "VB4uA2wBT_A6",
        "outputId": "61592548-3093-4498-eb23-e97fd703fd3b"
      },
      "outputs": [
        {
          "output_type": "stream",
          "name": "stdout",
          "text": [
            "[[3.         3.         3.         0.38009594 0.86785107]\n",
            " [3.         3.         3.         0.         0.        ]\n",
            " [0.37293191 0.79258536 0.37187842 0.         0.        ]\n",
            " [0.54688766 0.45500545 0.55143973 0.58066666 0.16984267]\n",
            " [0.80807055 0.76741813 0.41199233 0.9931135  0.87131166]]\n"
          ]
        }
      ],
      "source": [
        "print(rand_mat)"
      ]
    },
    {
      "cell_type": "code",
      "execution_count": 27,
      "metadata": {
        "colab": {
          "base_uri": "https://localhost:8080/"
        },
        "id": "Z7jIPsznT_A7",
        "outputId": "0ea2eaa7-e292-4fed-80fb-f63442c69850"
      },
      "outputs": [
        {
          "output_type": "stream",
          "name": "stdout",
          "text": [
            "[[99. 99. 99.]\n",
            " [99. 99. 99.]]\n",
            "[[3.         3.         3.         0.38009594 0.86785107]\n",
            " [3.         3.         3.         0.         0.        ]\n",
            " [0.37293191 0.79258536 0.37187842 0.         0.        ]\n",
            " [0.54688766 0.45500545 0.55143973 0.58066666 0.16984267]\n",
            " [0.80807055 0.76741813 0.41199233 0.9931135  0.87131166]]\n"
          ]
        }
      ],
      "source": [
        "sub_mat2 = rand_mat[0:2,0:3].copy()    # deep copy (Changing value in sub_mat2 does not change rand_mat)\n",
        "sub_mat2[:] = 99\n",
        "print(sub_mat2) \n",
        "print(rand_mat)\n"
      ]
    },
    {
      "cell_type": "code",
      "execution_count": 28,
      "metadata": {
        "colab": {
          "base_uri": "https://localhost:8080/"
        },
        "id": "MrVCZlnaT_A7",
        "outputId": "15df9534-0463-4fcf-bab9-e61916186171"
      },
      "outputs": [
        {
          "output_type": "stream",
          "name": "stdout",
          "text": [
            "[ 1.1175303  -0.75253015 -0.72949163  0.17672625  0.99579165  0.29219303\n",
            "  1.19111777 -0.75258451 -0.1440908   0.33317728 -1.08982516 -1.11437102\n",
            "  1.0669924   0.27813254  0.69315706]\n",
            "\n",
            "[ True False False  True  True  True  True False False  True False False\n",
            "  True  True  True]\n",
            "\n",
            "[1.1175303  0.17672625 0.99579165 0.29219303 1.19111777 0.33317728\n",
            " 1.0669924  0.27813254 0.69315706]\n"
          ]
        }
      ],
      "source": [
        "# we can also access entries with logicals\n",
        "rand_vec = np.random.randn(15)\n",
        "\n",
        "print(rand_vec)\n",
        "print(\"\")\n",
        "print(rand_vec>0) \n",
        "print(\"\")\n",
        "print(rand_vec[rand_vec>0])"
      ]
    },
    {
      "cell_type": "code",
      "execution_count": 30,
      "metadata": {
        "colab": {
          "base_uri": "https://localhost:8080/"
        },
        "id": "ZgoY2JQfT_A7",
        "outputId": "cb108a42-2e89-444a-c5d3-f0563d09adb9"
      },
      "outputs": [
        {
          "output_type": "stream",
          "name": "stdout",
          "text": [
            "[[-1.24578688  0.49633721 -0.0938787  -1.88640569 -1.33312507]\n",
            " [ 2.23233939  0.22667207 -0.18581709  1.04062703  1.50074678]\n",
            " [ 0.0314075  -1.07251519  1.538998   -0.77823944  0.74081445]\n",
            " [-0.72005747  0.12869181 -1.48427002 -0.32290392  1.2160871 ]\n",
            " [ 0.33973679 -0.00941917  0.15018569  0.83787215 -0.35204275]\n",
            " [ 2.24236496  0.62254086 -0.1780463  -0.59941736 -0.85521881]\n",
            " [-0.15495157  1.0956207   0.05788447  0.24695579  0.74577918]\n",
            " [-1.2221897  -1.35690723  0.36597218  1.64403967  0.94506801]\n",
            " [ 1.43724942 -0.18433301 -2.6516337  -0.43065766  0.13751131]\n",
            " [-1.11497199  0.07030748  0.31332356  0.0523044  -1.85730936]]\n",
            "\n",
            "[0.49633721 2.23233939 0.22667207 1.04062703 1.50074678 0.0314075\n",
            " 1.538998   0.74081445 0.12869181 1.2160871  0.33973679 0.15018569\n",
            " 0.83787215 2.24236496 0.62254086 1.0956207  0.05788447 0.24695579\n",
            " 0.74577918 0.36597218 1.64403967 0.94506801 1.43724942 0.13751131\n",
            " 0.07030748 0.31332356 0.0523044 ]\n"
          ]
        }
      ],
      "source": [
        "print(rand_mat2)\n",
        "print(\"\")\n",
        "print(rand_mat2[rand_mat2>0])    # acces value which is greater than 0"
      ]
    },
    {
      "cell_type": "code",
      "execution_count": 32,
      "metadata": {
        "colab": {
          "base_uri": "https://localhost:8080/"
        },
        "id": "gOB-KK8BT_A8",
        "outputId": "b3083684-bbe4-4dc5-d21a-f91b470209f7"
      },
      "outputs": [
        {
          "output_type": "stream",
          "name": "stdout",
          "text": [
            "[-5.         -0.75253015 -0.72949163  0.17672625 -5.          0.29219303\n",
            " -5.         -0.75258451 -0.1440908   0.33317728 -1.08982516 -1.11437102\n",
            " -5.          0.27813254 -5.        ]\n",
            "\n",
            "[-5.         -0.75253015 -0.72949163  0.17672625 -5.          0.29219303\n",
            " -5.         -0.75258451 -0.1440908   0.33317728 -1.08982516 -1.11437102\n",
            " -5.          0.27813254 -5.        ]\n"
          ]
        }
      ],
      "source": [
        "# set all value to -5 which is less than 0.5\n",
        "\n",
        "print(rand_vec)\n",
        "print('')\n",
        "rand_vec[rand_vec>0.5] = -5           \n",
        "print(rand_vec)"
      ]
    },
    {
      "cell_type": "code",
      "execution_count": null,
      "metadata": {
        "id": "bOEtIDppT_A8"
      },
      "outputs": [],
      "source": [
        "# let's save some arrays on the disk for use later!\n",
        "np.save('saved_file_name',rand_mat2)\n"
      ]
    },
    {
      "cell_type": "code",
      "execution_count": null,
      "metadata": {
        "id": "Od2CvSR3T_A8"
      },
      "outputs": [],
      "source": [
        "np.savez('zipped_file_name',rand_mat=rand_mat,rand_mat2=rand_mat2)"
      ]
    },
    {
      "cell_type": "code",
      "execution_count": null,
      "metadata": {
        "id": "-N7lgMi1T_A8"
      },
      "outputs": [],
      "source": [
        "# now let's load it\n",
        "loaded_vec = np.load('saved_file_name.npy')\n",
        "loaded_zip = np.load('zipped_file_name.npz')\n",
        "\n",
        "print(loaded_vec)\n",
        "print('')\n",
        "print(loaded_zip)"
      ]
    },
    {
      "cell_type": "code",
      "execution_count": null,
      "metadata": {
        "id": "cDRllIzHT_A8"
      },
      "outputs": [],
      "source": [
        "print(loaded_zip['rand_mat'])\n",
        "print('')\n",
        "print(loaded_zip['rand_mat2'])\n",
        "\n",
        "new_array  = loaded_zip['rand_mat']\n",
        "print(new_array)"
      ]
    },
    {
      "cell_type": "code",
      "execution_count": null,
      "metadata": {
        "id": "ovnWr-egT_A9"
      },
      "outputs": [],
      "source": [
        "# we can also save/load as text files...but only single variables\n",
        "np.savetxt('text_file_name.txt',rand_mat,delimiter=',')\n",
        "rand_mat_txt = np.loadtxt('text_file_name.txt',delimiter=',')\n",
        "print(rand_mat)\n",
        "print('')\n",
        "print(rand_mat_txt)"
      ]
    },
    {
      "cell_type": "code",
      "execution_count": null,
      "metadata": {
        "id": "lRAc6h0gT_A9"
      },
      "outputs": [],
      "source": [
        ""
      ]
    }
  ],
  "metadata": {
    "kernelspec": {
      "display_name": "Python 3",
      "language": "python",
      "name": "python3"
    },
    "language_info": {
      "codemirror_mode": {
        "name": "ipython",
        "version": 3
      },
      "file_extension": ".py",
      "mimetype": "text/x-python",
      "name": "python",
      "nbconvert_exporter": "python",
      "pygments_lexer": "ipython3",
      "version": "3.6.8"
    },
    "colab": {
      "name": "numpy_examples.ipynb",
      "provenance": [],
      "collapsed_sections": []
    }
  },
  "nbformat": 4,
  "nbformat_minor": 0
}